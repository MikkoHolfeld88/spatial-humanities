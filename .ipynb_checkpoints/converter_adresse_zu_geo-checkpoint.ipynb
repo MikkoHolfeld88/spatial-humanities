{
 "cells": [
  {
   "cell_type": "code",
   "execution_count": 1,
   "id": "6b8c53f6-c747-42eb-863b-665b62c93588",
   "metadata": {},
   "outputs": [],
   "source": [
    "import geopy.geocoders as geocoders\n",
    "\n",
    "# Nominatim endpoint for Germany (optional)\n",
    "nom = geocoders.Nominatim(user_agent=\"your_app_name\", scheme=\"http\", domain=\"nominatim.openstreetmap.org\")\n",
    "\n",
    "# Sample address data\n",
    "addresses = [\n",
    "    \"Brandenburger Tor, Berlin, Germany\",\n",
    "    \"Marienplatz, Munich, Germany\",\n",
    "    \"Jungfernstieg, Hamburg, Germany\"\n",
    "]\n",
    "\n",
    "# Geocode each address\n",
    "geocoded_data = []\n",
    "for address in addresses:\n",
    "  location = nom.geocode(address)\n",
    "  if location:\n",
    "    latitude = location.latitude\n",
    "    longitude = location.longitude\n",
    "    geocoded_data.append({\"address\": address, \"lat\": latitude, \"lon\": longitude})\n",
    "  else:\n",
    "    print(f\"Address not found: {address}\")\n",
    "\n",
    "# Convert to GeoJSON (assuming a FeatureCollection)\n",
    "features = []\n",
    "for item in geocoded_data:\n",
    "  features.append({\n",
    "    \"type\": \"Feature\",\n",
    "    \"geometry\": {\n",
    "      \"type\": \"Point\",\n",
    "      \"coordinates\": [item[\"lon\"], item[\"lat\"]]\n",
    "    },\n",
    "    \"properties\": {\n",
    "      \"address\": item[\"address\"]\n",
    "    }\n",
    "  })\n",
    "\n",
    "geojson_data = {\n",
    "  \"type\": \"FeatureCollection\",\n",
    "  \"features\": features\n",
    "}\n",
    "\n",
    "# Save or use the GeoJSON data\n",
    "# ...\n"
   ]
  },
  {
   "cell_type": "code",
   "execution_count": 2,
   "id": "47c1e314-8a4d-4c70-a65b-7151629cfc70",
   "metadata": {},
   "outputs": [
    {
     "data": {
      "text/plain": [
       "{'type': 'FeatureCollection',\n",
       " 'features': [{'type': 'Feature',\n",
       "   'geometry': {'type': 'Point',\n",
       "    'coordinates': [13.377703399031432, 52.5162699]},\n",
       "   'properties': {'address': 'Brandenburger Tor, Berlin, Germany'}},\n",
       "  {'type': 'Feature',\n",
       "   'geometry': {'type': 'Point',\n",
       "    'coordinates': [11.575924590567384, 48.137031750000006]},\n",
       "   'properties': {'address': 'Marienplatz, Munich, Germany'}},\n",
       "  {'type': 'Feature',\n",
       "   'geometry': {'type': 'Point', 'coordinates': [9.9933974, 53.5520952]},\n",
       "   'properties': {'address': 'Jungfernstieg, Hamburg, Germany'}}]}"
      ]
     },
     "execution_count": 2,
     "metadata": {},
     "output_type": "execute_result"
    }
   ],
   "source": [
    "geojson_data"
   ]
  },
  {
   "cell_type": "code",
   "execution_count": null,
   "id": "3a9fce3e-f36e-4c6d-afe4-c53f99649b14",
   "metadata": {},
   "outputs": [],
   "source": []
  }
 ],
 "metadata": {
  "kernelspec": {
   "display_name": "Python 3 (ipykernel)",
   "language": "python",
   "name": "python3"
  },
  "language_info": {
   "codemirror_mode": {
    "name": "ipython",
    "version": 3
   },
   "file_extension": ".py",
   "mimetype": "text/x-python",
   "name": "python",
   "nbconvert_exporter": "python",
   "pygments_lexer": "ipython3",
   "version": "3.12.3"
  }
 },
 "nbformat": 4,
 "nbformat_minor": 5
}
