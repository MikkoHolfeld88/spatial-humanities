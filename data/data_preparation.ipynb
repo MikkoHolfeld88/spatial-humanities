{
 "cells": [
  {
   "cell_type": "code",
   "execution_count": 1,
   "id": "1271677c-17f3-42df-a6d4-28e35ecd237b",
   "metadata": {},
   "outputs": [
    {
     "name": "stdout",
     "output_type": "stream",
     "text": [
      "Requirement already satisfied: geopy in c:\\users\\opef\\miniforge3\\envs\\spacial_humanities_course\\lib\\site-packages (2.4.1)\n",
      "Requirement already satisfied: geographiclib<3,>=1.52 in c:\\users\\opef\\miniforge3\\envs\\spacial_humanities_course\\lib\\site-packages (from geopy) (2.0)\n"
     ]
    }
   ],
   "source": [
    "#!pip install geopy"
   ]
  },
  {
   "cell_type": "code",
   "execution_count": 1,
   "id": "63362168-23b2-4ac3-aff1-0edfd699c930",
   "metadata": {},
   "outputs": [
    {
     "name": "stdout",
     "output_type": "stream",
     "text": [
      "C:\\Users\\OPEF\\miniforge3\\envs\\spacial_humanities_course\\python.exe\n"
     ]
    }
   ],
   "source": [
    "import sys\n",
    "print(sys.executable)"
   ]
  },
  {
   "cell_type": "code",
   "execution_count": 1,
   "id": "ee516860-3fea-4d67-9f5d-9e7fc1c40a6a",
   "metadata": {},
   "outputs": [],
   "source": [
    "#!pip install osmnx\n",
    "import osmnx as ox\n",
    "import geopandas as gpd\n",
    "import pandas as pd"
   ]
  },
  {
   "cell_type": "code",
   "execution_count": 10,
   "id": "f28a1273-e434-473a-8faa-b494c1b9e300",
   "metadata": {},
   "outputs": [
    {
     "name": "stdout",
     "output_type": "stream",
     "text": [
      "GeoJSON file saved as cities.geojson\n"
     ]
    }
   ],
   "source": [
    "\n",
    "\n",
    "# Define the place names with measures\n",
    "places_with_measures = [\n",
    "    \"Leipzig, Germany, 616093\",\n",
    "    \"Bennewitz, Germany, 5101\",\n",
    "    \"Böhlen, Germany, 6776\",\n",
    "    \"Borna, Germany, 19470\",\n",
    "    \"Borsdorf, Germany, 8195\",\n",
    "    \"Brandis, Germany, 9676\",\n",
    "    \"Colditz, Germany, 8381\",\n",
    "    \"Frohburg, Germany, 12305\",\n",
    "    \"Grimma, Germany, 28205\"\n",
    "]\n",
    "\n",
    "# Prepare a list to store the geocoded polygons with measures\n",
    "polygons = []\n",
    "\n",
    "# Retrieve the boundary polygons for each place and add measure\n",
    "for place in places_with_measures:\n",
    "    parts = place.split(\", \")\n",
    "    place_name = \", \".join(parts[:-1])\n",
    "    measure = int(parts[-1])\n",
    "    polygon = ox.geocode_to_gdf(place_name)\n",
    "    polygon['population'] = measure\n",
    "    polygons.append(polygon)\n",
    "\n",
    "# Combine the boundary polygons\n",
    "combined_polygon = gpd.GeoDataFrame(pd.concat(polygons, ignore_index=True))\n",
    "\n",
    "# Set the coordinate reference system to WGS84 (EPSG:4326)\n",
    "combined_polygon.set_crs(epsg=4326, inplace=True)\n",
    "\n",
    "# Save the combined polygon as a GeoJSON file\n",
    "output_file = \"cities.geojson\"\n",
    "combined_polygon.to_file(output_file, driver=\"GeoJSON\")\n",
    "\n",
    "print(f\"GeoJSON file saved as {output_file}\")\n"
   ]
  },
  {
   "cell_type": "code",
   "execution_count": 13,
   "id": "2a49713c-1d79-4277-8378-3bb9db03cea2",
   "metadata": {},
   "outputs": [
    {
     "name": "stdout",
     "output_type": "stream",
     "text": [
      "                                            geometry  bbox_north  bbox_south  \\\n",
      "0  POLYGON ((12.23665 51.31978, 12.23797 51.31710...   51.448115   51.238170   \n",
      "1  POLYGON ((12.63941 51.34480, 12.63950 51.34425...   51.401274   51.295220   \n",
      "2  POLYGON ((12.34781 51.20982, 12.34791 51.20913...   51.247565   51.165165   \n",
      "3  POLYGON ((12.44609 51.11321, 12.44622 51.11226...   51.180846   51.063974   \n",
      "4  POLYGON ((12.49888 51.36056, 12.49890 51.36053...   51.375187   51.324156   \n",
      "5  POLYGON ((12.53135 51.31726, 12.53339 51.31458...   51.351974   51.300051   \n",
      "6  POLYGON ((12.67475 51.12160, 12.68448 51.11743...   51.181530   51.091252   \n",
      "7  POLYGON ((12.50114 51.06428, 12.50178 51.06374...   51.143143   50.978870   \n",
      "8  POLYGON ((12.63978 51.18491, 12.64109 51.18089...   51.312505   51.156491   \n",
      "\n",
      "   bbox_east  bbox_west   place_id  osm_type  osm_id        lat        lon  \\\n",
      "0  12.542537  12.236652  118921247  relation   62649  51.340632  12.374733   \n",
      "1  12.758772  12.639413  118765423  relation  422921  51.355124  12.708974   \n",
      "2  12.433447  12.347813  117383819  relation  420478  51.202728  12.385968   \n",
      "3  12.566263  12.446089  117645766  relation  420481  51.124165  12.499906   \n",
      "4  12.575942  12.498881  117571769  relation  422923  51.347271  12.540308   \n",
      "5  12.693480  12.531348  118252496  relation  422924  51.334660  12.608904   \n",
      "6  12.898328  12.674747  119084211  relation  422336  51.129550  12.806584   \n",
      "7  12.722512  12.501137  118862556  relation  422238  51.061166  12.565725   \n",
      "8  12.931692  12.639784  118886642  relation  422342  51.238338  12.728751   \n",
      "\n",
      "      class            type  place_rank  importance addresstype       name  \\\n",
      "0  boundary  administrative          12    0.693614        city    Leipzig   \n",
      "1  boundary  administrative          16    0.391635     village  Bennewitz   \n",
      "2  boundary  administrative          16    0.429681        town     Böhlen   \n",
      "3  boundary  administrative          16    0.461314        town      Borna   \n",
      "4  boundary  administrative          16    0.395378     village   Borsdorf   \n",
      "5  boundary  administrative          16    0.424747        town    Brandis   \n",
      "6  boundary  administrative          16    0.452073        town    Colditz   \n",
      "7  boundary  administrative          16    0.433492        city   Frohburg   \n",
      "8  boundary  administrative          16    0.481045        town     Grimma   \n",
      "\n",
      "                                        display_name  population  \n",
      "0                           Leipzig, Saxony, Germany      616093  \n",
      "1  Bennewitz, Landkreis Leipzig, Saxony, 04828, G...        5101  \n",
      "2  Böhlen, Landkreis Leipzig, Saxony, 04564, Germany        6776  \n",
      "3   Borna, Landkreis Leipzig, Saxony, 04552, Germany       19470  \n",
      "4  Borsdorf, Landkreis Leipzig, Saxony, 04451, Ge...        8195  \n",
      "5        Brandis, Landkreis Leipzig, Saxony, Germany        9676  \n",
      "6  Colditz, Landkreis Leipzig, Saxony, 04680, Ger...        8381  \n",
      "7       Frohburg, Landkreis Leipzig, Saxony, Germany       12305  \n",
      "8  Grimma, Landkreis Leipzig, Saxony, 04668, Germany       28205  \n"
     ]
    }
   ],
   "source": [
    "print(combined_polygon)"
   ]
  },
  {
   "cell_type": "code",
   "execution_count": 4,
   "id": "4c7e6b8e-d404-4cd9-ab50-0f59a587862c",
   "metadata": {},
   "outputs": [
    {
     "name": "stdout",
     "output_type": "stream",
     "text": [
      "Coordinates of Brandenburger Tor, Berlin, Germany: (52.5162699, 13.377703399031432)\n",
      "Coordinates of Schloss Sanssouci, Potsdam, Germany: (52.40434735, 13.0392968883845)\n",
      "Coordinates of Hamburger Chaussee 22, Kiel, Germany: (54.3069489, 10.1231422)\n"
     ]
    }
   ],
   "source": [
    "'''\n",
    "addresses = [\n",
    "    \"Eintrag 1, Brandenburger Tor, Berlin, Germany\",\n",
    "    \"Schloss Sanssouci, Potsdam, Germany\",\n",
    "    \"Hamburger Chaussee 22, Kiel, Germany\"\n",
    "]\n",
    "\n",
    "coordinates = []\n",
    "for address in addresses:\n",
    "    location_point = ox.geocode(address)\n",
    "    coordinates.append(location_point)\n",
    "\n",
    "for address, coord in zip(addresses, coordinates):\n",
    "    print(f\"Coordinates of {address}: {coord}\")\n",
    "'''"
   ]
  },
  {
   "cell_type": "code",
   "execution_count": 12,
   "id": "d3e3280e-0f38-477b-bed8-62be82a03a85",
   "metadata": {},
   "outputs": [
    {
     "name": "stdout",
     "output_type": "stream",
     "text": [
      "Error geocoding address 'Schloss Hubertusburg 63, Wermsdorf': Nominatim could not geocode query 'Schloss Hubertusburg 63, Wermsdorf'\n",
      "                                                 name  Bettenkapazität  \\\n",
      "0            Ev. Diakonissenkrankenhaus Hauptstandort              249   \n",
      "1                  HELIOS-Park-Klinikum Hauptstandort              670   \n",
      "2                            Herzzentrum Leipzig GmbH              440   \n",
      "3                             Klinikum St. Georg GmbH               63   \n",
      "4                             Klinikum St. Georg GmbH              617   \n",
      "5             St. Elisabeth Krankenhaus Leipzig gGmbH              442   \n",
      "6                    Universitätsklinikum Leipzig AöR             1421   \n",
      "7       Neurologisches Rehabilitationszentrum Leipzig               60   \n",
      "8         Sana-Kliniken Leipziger Land Klinikum Borna              507   \n",
      "9           Diakoniewerk Zschadraß gemeinnützige GmbH              165   \n",
      "10                  Muldentalkliniken Standort Wurzen              177   \n",
      "11                  Muldentalkliniken Standort Wurzen              178   \n",
      "12        Sana-Kliniken Leipziger Land Klinikum Borna               59   \n",
      "13                 MediClin Waldkrankenhaus Bad Düben              125   \n",
      "14   Kreiskrankenhaus Delitzsch GmbH Klinik Delitzsch              135   \n",
      "15   Kreiskrankenhaus Delitzsch GmbH Klinik Delitzsch              135   \n",
      "16                          COLLM KLINIK OSCHATZ GmbH              190   \n",
      "17                           Helios Klinik Schkeuditz              150   \n",
      "18  Sächsisches Krankenhaus Altscherbitz - Hauptst...              253   \n",
      "19            Kreiskrankenhaus Torgau Johann Kentmann              271   \n",
      "\n",
      "                                address                   geometry  \n",
      "0         Georg-Schwarz-Str. 49 Leipzig  POINT (12.32161 51.34291)  \n",
      "1             Strümpellstr. 41, Leipzig  POINT (12.43539 51.30776)  \n",
      "2             Strümpellstr. 39, Leipzig  POINT (12.43699 51.30684)  \n",
      "3   Nikolai-Rumjanzew-Str. 100, Leipzig  POINT (12.29740 51.31946)  \n",
      "4         Delitzscher Str. 141, Leipzig  POINT (12.37616 51.38448)  \n",
      "5               Biedermannstr., Leipzig  POINT (12.37499 51.30853)  \n",
      "6                Liebigstr. 18, Leipzig  POINT (12.38485 51.33131)  \n",
      "7             Muldentalweg 1, Bennewitz  POINT (12.64782 51.34869)  \n",
      "8          Rudolf-Virchow-Str. 2, Borna  POINT (12.50540 51.13465)  \n",
      "9                  Im Park 15a, Colditz  POINT (12.81903 51.13589)  \n",
      "10                 Kleiststr. 5, Grimma  POINT (12.71904 51.23808)  \n",
      "11               Kutusowstr. 70, Wurzen  POINT (12.73227 51.37884)  \n",
      "12            Pestalozzistr. 9, Zwenkau  POINT (12.33062 51.22026)  \n",
      "13     Gustav-Adolf-Str. 15a, Bad Düben  POINT (12.58223 51.59845)  \n",
      "14          Dübener Str. 3-9, Delitzsch  POINT (12.33736 51.52732)  \n",
      "15    Wilhelm-Grune-Str. 5-8, Eilenburg  POINT (12.62120 51.46047)  \n",
      "16                  Parkstr. 1, Oschatz  POINT (13.11378 51.29276)  \n",
      "17        Leipziger Str. 45, Schkeuditz  POINT (12.23026 51.39433)  \n",
      "18        Leipziger Str. 59, Schkeuditz  POINT (12.25230 51.38724)  \n",
      "19             Christianistr. 1, Torgau  POINT (12.98463 51.56156)  \n",
      "GeoJSON file saved as hospitals.geojson\n"
     ]
    }
   ],
   "source": [
    "from shapely.geometry import Point\n",
    "\n",
    "# Define the addresses\n",
    "addresses = [\n",
    "    \"Ev. Diakonissenkrankenhaus Hauptstandort,249,Georg-Schwarz-Str. 49 Leipzig\",\n",
    "    \"HELIOS-Park-Klinikum Hauptstandort,670,Strümpellstr. 41,Leipzig\",\n",
    "    \"Herzzentrum Leipzig GmbH,440,Strümpellstr. 39,Leipzig\",\n",
    "    \"Klinikum St. Georg GmbH,63,Nikolai-Rumjanzew-Str. 100,Leipzig\",\n",
    "    \"Klinikum St. Georg GmbH,617,Delitzscher Str. 141,Leipzig\",\n",
    "    \"St. Elisabeth Krankenhaus Leipzig gGmbH,442,Biedermannstr.,Leipzig\",\n",
    "    \"Universitätsklinikum Leipzig AöR,1421,Liebigstr. 18,Leipzig\",\n",
    "    \"Neurologisches Rehabilitationszentrum Leipzig,60,Muldentalweg 1,Bennewitz\",\n",
    "    \"Sana-Kliniken Leipziger Land Klinikum Borna,507,Rudolf-Virchow-Str. 2,Borna\",\n",
    "    \"Diakoniewerk Zschadraß gemeinnützige GmbH,165,Im Park 15a,Colditz\",\n",
    "    \"Muldentalkliniken Standort Wurzen,177,Kleiststr. 5,Grimma\",\n",
    "    \"Muldentalkliniken Standort Wurzen,178,Kutusowstr. 70,Wurzen\",\n",
    "    \"Sana-Kliniken Leipziger Land Klinikum Borna,59,Pestalozzistr. 9,Zwenkau\",\n",
    "    \"MediClin Waldkrankenhaus Bad Düben,125,Gustav-Adolf-Str. 15a,Bad Düben\",\n",
    "    \"Kreiskrankenhaus Delitzsch GmbH Klinik Delitzsch,135,Dübener Str. 3-9,Delitzsch\",\n",
    "    \"Kreiskrankenhaus Delitzsch GmbH Klinik Delitzsch,135,Wilhelm-Grune-Str. 5-8,Eilenburg\",\n",
    "    \"COLLM KLINIK OSCHATZ GmbH,190,Parkstr. 1,Oschatz\",\n",
    "    \"Helios Klinik Schkeuditz,150,Leipziger Str. 45,Schkeuditz\",\n",
    "    \"Sächsisches Krankenhaus Altscherbitz - Hauptstandort,253,Leipziger Str. 59,Schkeuditz\",\n",
    "    \"Kreiskrankenhaus Torgau Johann Kentmann,271,Christianistr. 1,Torgau\",\n",
    "    \"Fachkrankenhaus Hubertusburg gGmbH,194,Schloss Hubertusburg 63,Wermsdorf\"]\n",
    "\n",
    "geocoded_data = []\n",
    "\n",
    "# Geocode each address\n",
    "for address in addresses:\n",
    "    parts = address.split(\",\")\n",
    "\n",
    "    # Ensure parts contain at least three elements: name, measure, and address\n",
    "    if len(parts) < 3:\n",
    "        print(f\"Skipping invalid address format: {address}\")\n",
    "        continue\n",
    "    \n",
    "    name = parts[0]\n",
    "    measure = int(parts[1])\n",
    "    full_address = \", \".join(parts[2:])\n",
    "    \n",
    "    try:\n",
    "        location_point = ox.geocode(full_address)\n",
    "        point = Point(location_point[1], location_point[0])  # Note: Point(x, y) -> Point(longitude, latitude)\n",
    "        geocoded_data.append({'name': name, 'Bettenkapazität': measure, 'address': full_address, 'geometry': point})\n",
    "    except Exception as e:\n",
    "        print(f\"Error geocoding address '{full_address}': {e}\")\n",
    "        continue\n",
    "\n",
    "# Create a GeoDataFrame\n",
    "gdf = gpd.GeoDataFrame(geocoded_data)\n",
    "\n",
    "print(gdf)\n",
    "\n",
    "# Set the coordinate reference system to WGS84 (EPSG:4326)\n",
    "gdf.set_crs(epsg=4326, inplace=True)\n",
    "\n",
    "# Save to a GeoJSON file\n",
    "output_file = \"hospitals.geojson\"\n",
    "gdf.to_file(output_file, driver=\"GeoJSON\")\n",
    "\n",
    "print(f\"GeoJSON file saved as {output_file}\")"
   ]
  },
  {
   "cell_type": "code",
   "execution_count": 6,
   "id": "41f4af77-453c-4960-9187-191f4b0577fa",
   "metadata": {},
   "outputs": [
    {
     "name": "stdout",
     "output_type": "stream",
     "text": [
      "[{'name': 'Eintrag 1', 'geometry': <POINT (13.378 52.516)>}, {'name': 'Eintrag 2', 'geometry': <POINT (13.039 52.404)>}, {'name': 'Klinik 1', 'geometry': <POINT (10.123 54.307)>}]\n"
     ]
    }
   ],
   "source": [
    "print(geocoded_data)"
   ]
  }
 ],
 "metadata": {
  "kernelspec": {
   "display_name": "Python (myenv)",
   "language": "python",
   "name": "spacial_humanities_course"
  },
  "language_info": {
   "codemirror_mode": {
    "name": "ipython",
    "version": 3
   },
   "file_extension": ".py",
   "mimetype": "text/x-python",
   "name": "python",
   "nbconvert_exporter": "python",
   "pygments_lexer": "ipython3",
   "version": "3.9.19"
  }
 },
 "nbformat": 4,
 "nbformat_minor": 5
}
